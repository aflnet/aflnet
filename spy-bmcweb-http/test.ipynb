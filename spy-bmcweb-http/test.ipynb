{
 "cells": [
  {
   "cell_type": "code",
   "execution_count": 1,
   "metadata": {},
   "outputs": [],
   "source": [
    "import requests"
   ]
  },
  {
   "cell_type": "code",
   "execution_count": 3,
   "metadata": {},
   "outputs": [
    {
     "data": {
      "text/plain": [
       "'<!DOCTYPE html><html lang=\"en\"><head><meta http-equiv=\"Content-Security-Policy\"><meta charset=\"utf-8\"><meta http-equiv=\"X-UA-Compatible\" content=\"IE=edge\"><meta name=\"viewport\" content=\"width=device-width,initial-scale=1\"><link rel=\"icon\" href=\"/favicon.ico\"><title>OpenBMC Web UI</title><link href=\"/css/app.63e2c453.css\" rel=\"preload\" as=\"style\"><link href=\"/css/chunk-vendors.00879a7c.css\" rel=\"preload\" as=\"style\"><link href=\"/js/app.e1ba0209.js\" rel=\"preload\" as=\"script\"><link href=\"/js/chunk-vendors.6cfb4b74.js\" rel=\"preload\" as=\"script\"><link href=\"/css/chunk-vendors.00879a7c.css\" rel=\"stylesheet\"><link href=\"/css/app.63e2c453.css\" rel=\"stylesheet\"></head><body><noscript><strong>We\\'re sorry but this application does not work properly without JavaScript enabled. Please enable it to continue.</strong></noscript><div id=\"app\"></div><script src=\"/js/chunk-vendors.6cfb4b74.js\"></script><script src=\"/js/app.e1ba0209.js\"></script></body></html>'"
      ]
     },
     "execution_count": 3,
     "metadata": {},
     "output_type": "execute_result"
    }
   ],
   "source": [
    "requests.get('http://127.0.0.1:2443').text"
   ]
  }
 ],
 "metadata": {
  "kernelspec": {
   "display_name": "Python 3",
   "language": "python",
   "name": "python3"
  },
  "language_info": {
   "codemirror_mode": {
    "name": "ipython",
    "version": 3
   },
   "file_extension": ".py",
   "mimetype": "text/x-python",
   "name": "python",
   "nbconvert_exporter": "python",
   "pygments_lexer": "ipython3",
   "version": "3.10.12"
  }
 },
 "nbformat": 4,
 "nbformat_minor": 2
}
