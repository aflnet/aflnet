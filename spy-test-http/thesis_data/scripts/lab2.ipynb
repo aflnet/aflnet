{
 "cells": [
  {
   "cell_type": "code",
   "execution_count": 16,
   "metadata": {},
   "outputs": [],
   "source": [
    "import glob\n",
    "import re\n",
    "import numpy as np\n",
    "import statistics\n",
    "\n",
    "def gen_result_lab_2(dir_name):\n",
    "    file_paths = glob.glob(dir_name)\n",
    "    file_paths = sorted(file_paths)\n",
    "\n",
    "    eps = []\n",
    "    for i,file_path in enumerate(file_paths):\n",
    "        eps.append([])\n",
    "        with open(file_path, 'r') as f:\n",
    "            for line in f:\n",
    "                pattern = re.compile(r'eps_(\\d+): (\\d+\\.\\d+)')\n",
    "                match = pattern.search(line)\n",
    "                if match:\n",
    "                    eps[i].append(float(match.group(2)))\n",
    "                else:\n",
    "                    print('No match')\n",
    "    data = np.mean(eps, axis=0)\n",
    "\n",
    "    # 最大值\n",
    "    maximum = max(data)\n",
    "    # 最小值\n",
    "    minimum = min(data)\n",
    "    # 平均值\n",
    "    mean = statistics.mean(data)\n",
    "    # 中位数\n",
    "    median = statistics.median(data)\n",
    "    print(f'{maximum:.2f}, {minimum:.2f}, {mean:.2f}, {median:.2f}')"
   ]
  },
  {
   "cell_type": "code",
   "execution_count": 18,
   "metadata": {},
   "outputs": [
    {
     "name": "stdout",
     "output_type": "stream",
     "text": [
      "33.30, 23.70, 31.76, 32.14\n",
      "7.29, 6.40, 6.94, 6.95\n",
      "19.57, 14.50, 17.05, 17.01\n"
     ]
    }
   ],
   "source": [
    "dir_name = 'data/eps_data/aflnet_static/*'\n",
    "gen_result_lab_2(dir_name)\n",
    "dir_name = 'data/eps_data/aflnet_user/*'\n",
    "gen_result_lab_2(dir_name)\n",
    "dir_name = 'data/eps_data/aflnetspy/*'\n",
    "gen_result_lab_2(dir_name)"
   ]
  },
  {
   "cell_type": "code",
   "execution_count": 21,
   "metadata": {},
   "outputs": [
    {
     "data": {
      "text/plain": [
       "32.805"
      ]
     },
     "execution_count": 21,
     "metadata": {},
     "output_type": "execute_result"
    }
   ],
   "source": [
    "4.5*7.29"
   ]
  }
 ],
 "metadata": {
  "kernelspec": {
   "display_name": "Python 3",
   "language": "python",
   "name": "python3"
  },
  "language_info": {
   "codemirror_mode": {
    "name": "ipython",
    "version": 3
   },
   "file_extension": ".py",
   "mimetype": "text/x-python",
   "name": "python",
   "nbconvert_exporter": "python",
   "pygments_lexer": "ipython3",
   "version": "3.10.12"
  }
 },
 "nbformat": 4,
 "nbformat_minor": 2
}
