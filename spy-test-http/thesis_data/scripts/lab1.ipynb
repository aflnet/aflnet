{
 "cells": [
  {
   "cell_type": "code",
   "execution_count": 153,
   "metadata": {},
   "outputs": [],
   "source": [
    "import glob\n",
    "import re\n",
    "import statistics\n",
    "import numpy as np\n",
    "\n",
    "def extreact_trace_bits_from_dir(dir_name):\n",
    "    file_paths = glob.glob(dir_name)\n",
    "    file_paths = sorted(file_paths, key=lambda x: int(x.split(\"/\")[-1].split(\".\")[0].split(\"_\")[-1]))\n",
    "    res = {}\n",
    "    for i, file_path in enumerate(file_paths):\n",
    "        with open(file_path, \"r\") as file:\n",
    "            res[i+1] = {}\n",
    "            for line in file:\n",
    "                if \"count\" in line:\n",
    "                    continue\n",
    "                if \"trace_bits\" in line:\n",
    "                    pattern = r\"trace_bits\\[(\\d+)\\]: (\\d+)\"\n",
    "                    matches = re.findall(pattern, line)\n",
    "                    if matches:\n",
    "                        pos = int(matches[0][0])\n",
    "                        count = int(matches[0][1])\n",
    "                        res[i+1][pos] = count\n",
    "    return res\n",
    "\n",
    "def compare_trace_bits(dict1, dict2):\n",
    "    keys1 = set(dict1.keys())\n",
    "    keys2 = set(dict2.keys())\n",
    "    keys = keys1.union(keys2)\n",
    "    count = 0\n",
    "    for key in keys:\n",
    "        if key in dict1 and key in dict2 and dict1[key] == dict2[key]:\n",
    "            count += 1\n",
    "    \n",
    "    return count / len(keys)\n",
    "\n",
    "def get_result(data):\n",
    "    # 最大值\n",
    "    maximum = max(data)\n",
    "    # 最小值\n",
    "    minimum = min(data)\n",
    "    # 平均值\n",
    "    mean = statistics.mean(data)\n",
    "    # 中位数\n",
    "    median = statistics.median(data)\n",
    "    # 众数\n",
    "    mode = statistics.mode(data)\n",
    "    return maximum, minimum, mean, median, mode\n",
    "\n",
    "def gen_result_lab_1(dir_names, thresholds, log_file):\n",
    "    # 初始化\n",
    "    results = {}\n",
    "    for threshold in thresholds:\n",
    "        results[threshold] = []\n",
    "\n",
    "    print(\"=====================================\", file=log_file)\n",
    "    print(\"最大值\\t最小值\\t平均值\\t中位数\\t众数\", file=log_file)\n",
    "    for dir_name in dir_names:\n",
    "        res = extreact_trace_bits_from_dir(dir_name)\n",
    "        print(f\"{dir_name}:\", file=log_file)\n",
    "\n",
    "        for threshold in thresholds:\n",
    "            family_count = {}\n",
    "            for i in range(1, len(res)+1):\n",
    "                family_count[i] = 0\n",
    "                for j in range(1, len(res)+1):\n",
    "                    if compare_trace_bits(res[i], res[j]) > threshold:\n",
    "                        family_count[i] += 1\n",
    "            maximum, minimum, mean, median,mode_value = get_result(list(family_count.values()))\n",
    "            results[threshold].append((maximum, minimum, mean, median, mode_value))\n",
    "            print(f\"{maximum}\\t{minimum}\\t{mean}\\t{median}\\t{mode_value}\\tthreshold: {threshold}\", file=log_file)\n",
    "\n",
    "\n",
    "    print(\"最终结果: \", file=log_file)\n",
    "    for threshold in thresholds:\n",
    "        # 计算平均值\n",
    "        maximum, minimum, mean, median,mode_value = np.mean(results[threshold],axis=0)\n",
    "        print(f\"{maximum}\\t{minimum}\\t{mean}\\t{median}\\t{mode_value}\\tthreshold: {threshold}\", file=log_file)\n"
   ]
  },
  {
   "cell_type": "code",
   "execution_count": 156,
   "metadata": {},
   "outputs": [
    {
     "name": "stdout",
     "output_type": "stream",
     "text": [
      "data/trace_bits_data/aflnet_user/afl-spy-logs-1/*:\n",
      "100\t100\t100\t100.0\t100\tthreshold: 0.5\n"
     ]
    }
   ],
   "source": [
    "dir_names = [\"data/afl-spy-logs-user-1/*\", \"data/afl-spy-logs-user-2/*\", \"data/afl-spy-logs-user-3/*\"]\n",
    "thresholds = [0.9, 0.95, 0.99, 0.995, 0.999, 0.9995, 0.9999]\n",
    "\n",
    "dir_name = \"data/trace_bits_data/aflnet_user/afl-spy-logs-1/*\"\n",
    "# dir_name = \"/home/czx/afl-workspace/aflnet/spy-test-http/afl-spy-logs-system-4/*\"\n",
    "threshold = 0.5\n",
    "res = extreact_trace_bits_from_dir(dir_name)\n",
    "print(f\"{dir_name}:\",)\n",
    "\n",
    "family_count = {}\n",
    "for i in range(1, len(res)+1):\n",
    "    family_count[i] = 0\n",
    "    for j in range(1, len(res)+1):\n",
    "        if compare_trace_bits(res[i], res[j]) > threshold:\n",
    "            family_count[i] += 1\n",
    "maximum, minimum, mean, median,mode_value = get_result(list(family_count.values()))\n",
    "print(f\"{maximum}\\t{minimum}\\t{mean}\\t{median}\\t{mode_value}\\tthreshold: {threshold}\")"
   ]
  },
  {
   "cell_type": "code",
   "execution_count": 155,
   "metadata": {},
   "outputs": [
    {
     "data": {
      "text/plain": [
       "{}"
      ]
     },
     "execution_count": 155,
     "metadata": {},
     "output_type": "execute_result"
    }
   ],
   "source": [
    "res"
   ]
  }
 ],
 "metadata": {
  "kernelspec": {
   "display_name": "Python 3",
   "language": "python",
   "name": "python3"
  },
  "language_info": {
   "codemirror_mode": {
    "name": "ipython",
    "version": 3
   },
   "file_extension": ".py",
   "mimetype": "text/x-python",
   "name": "python",
   "nbconvert_exporter": "python",
   "pygments_lexer": "ipython3",
   "version": "3.10.12"
  }
 },
 "nbformat": 4,
 "nbformat_minor": 2
}
